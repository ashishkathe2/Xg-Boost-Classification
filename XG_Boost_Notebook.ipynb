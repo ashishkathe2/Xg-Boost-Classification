{
  "nbformat": 4,
  "nbformat_minor": 0,
  "metadata": {
    "colab": {
      "provenance": []
    },
    "kernelspec": {
      "name": "python3",
      "display_name": "Python 3"
    },
    "language_info": {
      "name": "python"
    }
  },
  "cells": [
    {
      "cell_type": "markdown",
      "source": [
        "**Loading all libraries and dataset required**"
      ],
      "metadata": {
        "id": "VQ8CVUSCSzhJ"
      }
    },
    {
      "cell_type": "code",
      "execution_count": 166,
      "metadata": {
        "id": "-rYPdSb-ntK7"
      },
      "outputs": [],
      "source": [
        "#Loading libraries Required\n",
        "import pandas as pd\n",
        "import xgboost as xgb\n",
        "from sklearn.model_selection import train_test_split\n",
        "from xgboost import XGBClassifier\n",
        "from sklearn.metrics import accuracy_score\n",
        "import xgboost as xgb\n",
        "from xgboost import cv\n",
        "from sklearn.preprocessing import OneHotEncoder\n",
        "from sklearn.compose import make_column_transformer\n",
        "from sklearn.preprocessing import StandardScaler\n",
        "import matplotlib.pyplot as plt\n",
        "\n",
        "#Loading dataset\n",
        "df=pd.read_csv('/content/drive/MyDrive/VackerGlobal/Lead Scoring.csv')"
      ]
    },
    {
      "cell_type": "markdown",
      "source": [
        "**Dealing with NULL values**"
      ],
      "metadata": {
        "id": "qe3vF4r-Svqd"
      }
    },
    {
      "cell_type": "code",
      "source": [
        "#values in fillna is either most common occurence to replace null or mean of continous feature\n",
        "df['TotalVisits']=df['TotalVisits'].fillna(3.45)\n",
        "df['Page Views Per Visit']=df['Page Views Per Visit'].fillna(2.36)\n",
        "df['Last Activity']=df['Last Activity'].fillna('Email Opened')\n",
        "df['Country']=df['Country'].fillna('India')\n",
        "df['Specialization']=df['Specialization'].fillna('Select')\n",
        "df['How did you hear about X Education']=df['How did you hear about X Education'].fillna('Select')\n",
        "df['What is your current occupation']=df['What is your current occupation'].fillna('Unemployed')\n",
        "df['What matters most to you in choosing a course']=df['What matters most to you in choosing a course'].fillna('Better Career Prospects')\n",
        "df['Tags']=df['Tags'].fillna('Will revert after reading the email')\n",
        "df['Lead Quality']=df['Lead Quality'].fillna('Might be')\n",
        "df['Lead Profile']=df['Lead Profile'].fillna('Select')\n",
        "df['City']=df['City'].fillna('Mumbai')\n",
        "df['Asymmetrique Activity Index']=df['Asymmetrique Activity Index'].fillna('02.Medium')\n",
        "df['Asymmetrique Profile Index']=df['Asymmetrique Profile Index'].fillna('02.Medium')\n",
        "df['Asymmetrique Activity Score']=df['Asymmetrique Activity Score'].fillna(14.3)\n",
        "df['Asymmetrique Profile Score']=df['Asymmetrique Profile Score'].fillna(16.3)\n",
        "\n"
      ],
      "metadata": {
        "id": "x3Zcli5tsp59"
      },
      "execution_count": 167,
      "outputs": []
    },
    {
      "cell_type": "markdown",
      "source": [
        "**Splitting data**"
      ],
      "metadata": {
        "id": "Ry1UywT1S6GF"
      }
    },
    {
      "cell_type": "code",
      "source": [
        "#Dropping features which does not play any role in deciding target variable\n",
        "df=df.drop(['Prospect ID'], axis=1)\n",
        "df=df.drop(['Lead Number'], axis=1)\n"
      ],
      "metadata": {
        "id": "tFEdTkj3s65-"
      },
      "execution_count": 168,
      "outputs": []
    },
    {
      "cell_type": "code",
      "source": [
        "#Separating target variable from dataset\n",
        "y = df['Converted']\n",
        "df=df.drop(['Converted'], axis=1)\n",
        "x=df"
      ],
      "metadata": {
        "id": "pEEGbIketfLP"
      },
      "execution_count": 169,
      "outputs": []
    },
    {
      "cell_type": "code",
      "source": [
        "#Splitting Dataset\n",
        "x_train,x_test, y_train, y_test = train_test_split(x, y,shuffle=True)"
      ],
      "metadata": {
        "id": "emIzR3WAtzw7"
      },
      "execution_count": 170,
      "outputs": []
    },
    {
      "cell_type": "markdown",
      "source": [
        "**Preprocessing Data**"
      ],
      "metadata": {
        "id": "ADCX-IfwSoOF"
      }
    },
    {
      "cell_type": "code",
      "source": [
        "\n",
        "transformer = make_column_transformer(\n",
        "    (StandardScaler(),['TotalVisits','Total Time Spent on Website','Page Views Per Visit','Asymmetrique Activity Score','Asymmetrique Profile Score']),\n",
        "    (OneHotEncoder(handle_unknown='ignore'), ['Lead Origin','Lead Source','Do Not Email','Do Not Call','Last Activity','Country','Specialization',\n",
        "                                   'How did you hear about X Education','What is your current occupation',\n",
        "                                   'What matters most to you in choosing a course','Search','Magazine','Newspaper Article',\n",
        "                                   'X Education Forums','Newspaper','Digital Advertisement','Through Recommendations',\n",
        "                                   'Receive More Updates About Our Courses','Tags','Lead Quality','Update me on Supply Chain Content',\n",
        "                                   'Get updates on DM Content','Lead Profile','City','Asymmetrique Activity Index','Asymmetrique Profile Index',\n",
        "                                   'I agree to pay the amount through cheque','A free copy of Mastering The Interview',\n",
        "                                   'Last Notable Activity']),remainder='passthrough')\n",
        "#Data for Single model Training\n",
        "x_train = transformer.fit_transform(x_train)\n",
        "x_test=transformer.transform(x_test)\n",
        "\n",
        "#Data for cross validation\n",
        "x = transformer.fit_transform(x)\n",
        "\n"
      ],
      "metadata": {
        "id": "e_m-tYokt9Tc"
      },
      "execution_count": 171,
      "outputs": []
    },
    {
      "cell_type": "markdown",
      "source": [
        "**Model Training**"
      ],
      "metadata": {
        "id": "ibS2xwfDSjA5"
      }
    },
    {
      "cell_type": "code",
      "source": [
        "#Single Model Training\n",
        "# declare parameters\n",
        "\n",
        "          \n",
        "# instantiate the classifier \n",
        "xgb_model = XGBClassifier(n_estimators=200,max_depth=5,colsample_bytree= 0.4)\n",
        "\n",
        "# fit the classifier to the training data\n",
        "xgb_model.fit(x_train, y_train)\n",
        "\n",
        "y_pred=xgb_model.predict(x_test)\n",
        "accuracy = accuracy_score(y_test, y_pred)\n",
        "print(\"Accuracy: %.2f%%\" % (accuracy * 100.0))"
      ],
      "metadata": {
        "colab": {
          "base_uri": "https://localhost:8080/"
        },
        "id": "HCpyAp4G5GhO",
        "outputId": "ef67fc5d-4e03-49f4-b0ad-20814602ff33"
      },
      "execution_count": 172,
      "outputs": [
        {
          "output_type": "stream",
          "name": "stdout",
          "text": [
            "Accuracy: 93.59%\n"
          ]
        }
      ]
    },
    {
      "cell_type": "markdown",
      "source": [
        "**Cross-Validation (Please see through results Completely)**"
      ],
      "metadata": {
        "id": "XsUD3gg9SZzO"
      }
    },
    {
      "cell_type": "code",
      "source": [
        "# define data_dmatrix\n",
        "data_dmatrix = xgb.DMatrix(data=x,label=y)\n",
        "\n",
        "\n",
        "params = {\"objective\":\"binary:logistic\",'colsample_bytree': 0.4,'learning_rate': 1,\n",
        "                'max_depth': 5, 'alpha': 10}\n",
        "\n",
        "xgb_cv = cv(dtrain=data_dmatrix, params=params, nfold=3,\n",
        "                    num_boost_round=50, early_stopping_rounds=10, metrics=\"auc\", as_pandas=True, seed=123)\n",
        "print(xgb_cv)\n",
        "\n",
        "#IMPORTANT\n",
        "#following results contains cross-validation model training results"
      ],
      "metadata": {
        "colab": {
          "base_uri": "https://localhost:8080/"
        },
        "id": "wHKuUeP9OdTm",
        "outputId": "16f2ebf6-6585-43fc-f468-ada2223b5f9b"
      },
      "execution_count": 173,
      "outputs": [
        {
          "output_type": "stream",
          "name": "stdout",
          "text": [
            "    train-auc-mean  train-auc-std  test-auc-mean  test-auc-std\n",
            "0         0.841733       0.001738       0.836058      0.008952\n",
            "1         0.928306       0.010881       0.926069      0.012118\n",
            "2         0.951656       0.004045       0.948921      0.001422\n",
            "3         0.964145       0.004660       0.961899      0.003781\n",
            "4         0.969930       0.004989       0.966693      0.003414\n",
            "5         0.972996       0.003660       0.969150      0.002791\n",
            "6         0.975565       0.001830       0.971175      0.001017\n",
            "7         0.976683       0.001802       0.971299      0.000714\n",
            "8         0.977390       0.001689       0.972082      0.000537\n",
            "9         0.978176       0.001556       0.972991      0.000542\n",
            "10        0.979258       0.001387       0.974047      0.000374\n",
            "11        0.979706       0.001403       0.974128      0.000393\n",
            "12        0.980257       0.001393       0.974466      0.000404\n",
            "13        0.980724       0.001309       0.974817      0.000167\n",
            "14        0.980898       0.001228       0.974924      0.000030\n",
            "15        0.981292       0.000860       0.975032      0.000160\n",
            "16        0.981485       0.000858       0.975067      0.000231\n",
            "17        0.981904       0.000957       0.974981      0.000419\n",
            "18        0.982195       0.000962       0.975201      0.000332\n",
            "19        0.982327       0.000915       0.975321      0.000375\n",
            "20        0.982491       0.000837       0.975388      0.000386\n",
            "21        0.982606       0.000842       0.975442      0.000366\n",
            "22        0.982729       0.000770       0.975388      0.000338\n",
            "23        0.982816       0.000779       0.975393      0.000356\n",
            "24        0.982857       0.000761       0.975423      0.000356\n",
            "25        0.982991       0.000804       0.975536      0.000353\n",
            "26        0.983004       0.000818       0.975514      0.000384\n",
            "27        0.983064       0.000778       0.975541      0.000412\n",
            "28        0.983188       0.000838       0.975614      0.000361\n",
            "29        0.983264       0.000813       0.975685      0.000488\n",
            "30        0.983354       0.000761       0.975640      0.000461\n",
            "31        0.983382       0.000771       0.975650      0.000482\n",
            "32        0.983429       0.000741       0.975684      0.000515\n",
            "33        0.983463       0.000721       0.975694      0.000525\n",
            "34        0.983510       0.000736       0.975740      0.000541\n",
            "35        0.983535       0.000746       0.975788      0.000564\n",
            "36        0.983552       0.000724       0.975783      0.000561\n",
            "37        0.983593       0.000667       0.975736      0.000524\n",
            "38        0.983643       0.000599       0.975788      0.000565\n",
            "39        0.983654       0.000584       0.975795      0.000570\n"
          ]
        }
      ]
    },
    {
      "cell_type": "markdown",
      "source": [
        "**Plotting Graph With 97.57% of Testing Accuracy**"
      ],
      "metadata": {
        "id": "72IllWY6UnON"
      }
    },
    {
      "cell_type": "code",
      "source": [
        "\n",
        "plt.plot(xgb_cv['train-auc-mean'], 'g', label='Training accuracy')\n",
        "\n",
        "plt.plot(xgb_cv['test-auc-mean'], 'b', label='Testing Accuracy')\n",
        "\n",
        "plt.title('Training and Testing Accuracy')\n",
        "\n",
        "plt.xlabel('num_boost_round')\n",
        "\n",
        "plt.ylabel('Accuracy')\n",
        "\n",
        "plt.legend()\n",
        "\n",
        "plt.show()\n",
        "plt.show()"
      ],
      "metadata": {
        "colab": {
          "base_uri": "https://localhost:8080/",
          "height": 296
        },
        "id": "H4OEg8iJTX-u",
        "outputId": "c825b717-e919-40b9-ecf4-ac94c0909b79"
      },
      "execution_count": 177,
      "outputs": [
        {
          "output_type": "display_data",
          "data": {
            "text/plain": [
              "<Figure size 432x288 with 1 Axes>"
            ],
            "image/png": "[encoded data removed]"
          },
          "metadata": {
            "needs_background": "light"
          }
        }
      ]
    }
  ]
}